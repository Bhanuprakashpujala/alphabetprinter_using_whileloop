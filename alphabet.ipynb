{
 "cells": [
  {
   "cell_type": "code",
   "execution_count": 90,
   "id": "d0ecfb38",
   "metadata": {},
   "outputs": [
    {
     "name": "stdout",
     "output_type": "stream",
     "text": [
      "**********\n",
      "        *\n",
      "       *\n",
      "      *\n",
      "     *\n",
      "    *\n",
      "   ************\n"
     ]
    }
   ],
   "source": [
    "# z\n",
    "a=1\n",
    "while a<8:\n",
    "    if a==1:\n",
    "        print(\"**********\")\n",
    "    elif a==2:\n",
    "        print(\"        *\")\n",
    "    elif a==3:\n",
    "        print(\"       *\")\n",
    "    elif a==4:\n",
    "        print(\"      *\")\n",
    "    elif a==5: \n",
    "        print(\"     *\")\n",
    "    elif a==6:\n",
    "        print(\"    *\")\n",
    "    elif a==7:\n",
    "        print(\"   ************\")\n",
    "    a+=1"
   ]
  },
  {
   "cell_type": "code",
   "execution_count": 36,
   "id": "f14a8185",
   "metadata": {},
   "outputs": [
    {
     "name": "stdout",
     "output_type": "stream",
     "text": [
      "*          *\n",
      " *        *\n",
      "  *      *\n",
      "   *    *\n",
      "    *  *\n",
      "     **\n",
      "     **\n",
      "     **\n",
      "     **\n"
     ]
    }
   ],
   "source": [
    "# Y\n",
    "a=1\n",
    "while a<10:\n",
    "    if a==1:\n",
    "        print(\"*          *\")\n",
    "    elif a==2:\n",
    "        print(\" *        *\")\n",
    "    elif a==3:\n",
    "        print(\"  *      *\")\n",
    "    elif a==4:\n",
    "        print(\"   *    *\")\n",
    "    elif a==5:\n",
    "        print(\"    *  *\")\n",
    "    elif a==6:\n",
    "        print(\"     **\")\n",
    "    elif a==7:\n",
    "        print(\"     **\")\n",
    "    elif a==8:\n",
    "        print(\"     **\")\n",
    "    elif a==9:\n",
    "        print(\"     **\")\n",
    "    a+=1"
   ]
  },
  {
   "cell_type": "code",
   "execution_count": 53,
   "id": "427d0225",
   "metadata": {},
   "outputs": [
    {
     "name": "stdout",
     "output_type": "stream",
     "text": [
      "*          *\n",
      " *        *\n",
      "  *      *\n",
      "   *    *\n",
      "    *  *\n",
      "     **\n",
      "    *  *\n",
      "   *    *\n",
      "  *      *\n",
      " *        *\n",
      "*          *\n"
     ]
    }
   ],
   "source": [
    "# x\n",
    "a=1\n",
    "while a<=11:\n",
    "    if a==1:\n",
    "        print(\"*          *\")\n",
    "    elif a==2:\n",
    "        print(\" *        *\")\n",
    "    elif a==3:\n",
    "        print(\"  *      *\")\n",
    "    elif a==4:\n",
    "        print(\"   *    *\")\n",
    "    elif a==5:\n",
    "        print(\"    *  *\")\n",
    "    elif a==6:\n",
    "        print(\"     **\")\n",
    "    elif a==7:\n",
    "        print(\"    *  *\")\n",
    "    elif a==8:\n",
    "        print(\"   *    *\")\n",
    "    elif a==9:\n",
    "        print(\"  *      *\")\n",
    "    elif a==10:\n",
    "        print(\" *        *\")\n",
    "    elif a==11:\n",
    "        print(\"*          *\")\n",
    "    a+=1"
   ]
  },
  {
   "cell_type": "code",
   "execution_count": 52,
   "id": "378720d3",
   "metadata": {},
   "outputs": [
    {
     "name": "stdout",
     "output_type": "stream",
     "text": [
      "*          *\n",
      "*    *     *\n",
      "*  *   *   *\n",
      "* *      * *\n",
      "**        **\n"
     ]
    }
   ],
   "source": [
    "# w\n",
    "a=1\n",
    "while a<=5:\n",
    "    if a==1:\n",
    "        print(\"*          *\")\n",
    "    elif a==2:\n",
    "        print(\"*    *     *\")\n",
    "    elif a==3:\n",
    "        print(\"*  *   *   *\")\n",
    "    elif a==4:\n",
    "        print(\"* *      * *\")\n",
    "    elif a==5:\n",
    "        print(\"**        **\")\n",
    "   \n",
    "    a+=1"
   ]
  },
  {
   "cell_type": "code",
   "execution_count": 1,
   "id": "3bdaab8a",
   "metadata": {},
   "outputs": [
    {
     "name": "stdout",
     "output_type": "stream",
     "text": [
      "*          *\n",
      " *        *\n",
      "  *      *\n",
      "   *    *\n",
      "    *  *\n",
      "     **\n"
     ]
    }
   ],
   "source": [
    "# V\n",
    "a=1\n",
    "while a<12:\n",
    "    if a==1:\n",
    "        print(\"*          *\")\n",
    "    elif a==2:\n",
    "        print(\" *        *\")\n",
    "    elif a==3:\n",
    "        print(\"  *      *\")\n",
    "    elif a==4:\n",
    "        print(\"   *    *\")\n",
    "    elif a==5:\n",
    "        print(\"    *  *\")\n",
    "    elif a==6:\n",
    "        print(\"     **\")\n",
    "    a+=1"
   ]
  },
  {
   "cell_type": "code",
   "execution_count": 5,
   "id": "c88e0796",
   "metadata": {},
   "outputs": [
    {
     "name": "stdout",
     "output_type": "stream",
     "text": [
      "*          *\n",
      "*          *\n",
      "*          *\n",
      "*          *\n",
      "*          *\n",
      "************\n"
     ]
    }
   ],
   "source": [
    "# U\n",
    "a=1\n",
    "while a<=6:\n",
    "    if a==1:\n",
    "        print(\"*          *\")\n",
    "    elif a==2:\n",
    "        print(\"*          *\")\n",
    "    elif a==3:\n",
    "        print(\"*          *\")\n",
    "    elif a==4:\n",
    "        print(\"*          *\")\n",
    "    elif a==5:\n",
    "        print(\"*          *\")\n",
    "    elif a==6:\n",
    "        print(\"************\")\n",
    "   \n",
    "    a+=1"
   ]
  },
  {
   "cell_type": "code",
   "execution_count": 14,
   "id": "a53d826d",
   "metadata": {},
   "outputs": [
    {
     "name": "stdout",
     "output_type": "stream",
     "text": [
      "**************\n",
      "     **\n",
      "     **\n",
      "     **\n",
      "     **\n",
      "     **\n"
     ]
    }
   ],
   "source": [
    "#T\n",
    "\n",
    "a=1\n",
    "while a<8:\n",
    "    if a==1:\n",
    "        print(\"**************\")\n",
    "    elif a==2:\n",
    "        print(\"     **\")\n",
    "    elif a==3:\n",
    "        print(\"     **\")\n",
    "    elif a==4:\n",
    "        print(\"     **\")\n",
    "    elif a==5:\n",
    "        print(\"     **\")\n",
    "    elif a==6:\n",
    "        print(\"     **\")\n",
    "    a+=1"
   ]
  },
  {
   "cell_type": "code",
   "execution_count": 88,
   "id": "81c25aa4",
   "metadata": {},
   "outputs": [
    {
     "name": "stdout",
     "output_type": "stream",
     "text": [
      " ****** \n",
      "*       \n",
      " ****** \n",
      "       *\n",
      " ******\n"
     ]
    }
   ],
   "source": [
    "# s\n",
    "a=1\n",
    "while a<10:\n",
    "    if a==1:\n",
    "        print(\" ****** \")\n",
    "    elif a==2:\n",
    "        print(\"*       \") \n",
    "    elif a==3:\n",
    "        print(\" ****** \")\n",
    "    elif a==4:\n",
    "        print(\"       *\")\n",
    "    elif a==5:\n",
    "        print(\" ******\")\n",
    "    a+=1"
   ]
  },
  {
   "cell_type": "code",
   "execution_count": 15,
   "id": "1410b647",
   "metadata": {},
   "outputs": [
    {
     "name": "stdout",
     "output_type": "stream",
     "text": [
      "***********\n",
      "*        *\n",
      "*       *\n",
      "*      *\n",
      "*     *\n",
      "******\n",
      "*     *\n",
      "*       *\n",
      "*         *\n"
     ]
    }
   ],
   "source": [
    "# R\n",
    "a=1\n",
    "while a<10:\n",
    "    if a==1:\n",
    "        print(\"***********\")\n",
    "    elif a==2:\n",
    "        print(\"*        *\")\n",
    "    elif a==3:\n",
    "        print(\"*       *\")\n",
    "    elif a==4:\n",
    "        print(\"*      *\")\n",
    "    elif a==5:\n",
    "        print(\"*     *\")\n",
    "    elif a==6:\n",
    "        print(\"******\")\n",
    "    elif a==7:\n",
    "        print(\"*     *\")\n",
    "    elif a==8:\n",
    "        print(\"*       *\")\n",
    "    elif a==9:\n",
    "        print(\"*         *\")\n",
    "    \n",
    "    a+=1"
   ]
  },
  {
   "cell_type": "code",
   "execution_count": 51,
   "id": "e8d0f389",
   "metadata": {},
   "outputs": [
    {
     "name": "stdout",
     "output_type": "stream",
     "text": [
      " ****** \n",
      "*       *\n",
      "*    *  *\n",
      " ***** * \n",
      "         *\n"
     ]
    }
   ],
   "source": [
    "# Q\n",
    "a=1\n",
    "while a<=5:\n",
    "    if a==1:\n",
    "        print(\" ****** \")\n",
    "    elif a==2:\n",
    "        print(\"*       *\")\n",
    "    elif a==3:\n",
    "        print(\"*    *  *\")\n",
    "    elif a==4:\n",
    "        print(\" ***** * \")\n",
    "    elif a==5:\n",
    "        print(\"         *\")\n",
    " \n",
    "    a=a+1"
   ]
  },
  {
   "cell_type": "code",
   "execution_count": 5,
   "id": "f0391d79",
   "metadata": {},
   "outputs": [
    {
     "name": "stdout",
     "output_type": "stream",
     "text": [
      "**********\n",
      "*        *\n",
      "*        *\n",
      "*        *\n",
      "**********\n",
      "*\n",
      "*\n",
      "*\n"
     ]
    }
   ],
   "source": [
    "# p\n",
    "a=1\n",
    "while a<10:\n",
    "    if a==1:\n",
    "        print(\"**********\")\n",
    "    elif a==2:\n",
    "        print(\"*        *\")\n",
    "    elif a==3:\n",
    "        print(\"*        *\")\n",
    "    elif a==4:\n",
    "        print(\"*        *\")\n",
    "    elif a==5:\n",
    "        print(\"**********\")\n",
    "    elif a==6:\n",
    "        print(\"*\")\n",
    "    elif a==7:\n",
    "        print(\"*\") \n",
    "    elif a==8:\n",
    "        print(\"*\")\n",
    "    a=a+1\n"
   ]
  },
  {
   "cell_type": "code",
   "execution_count": 53,
   "id": "2cc24b2e",
   "metadata": {},
   "outputs": [
    {
     "name": "stdout",
     "output_type": "stream",
     "text": [
      " ****** \n",
      "*       *\n",
      "*       *\n",
      " ***** * \n",
      "\n"
     ]
    }
   ],
   "source": [
    "# O\n",
    "a=1\n",
    "while a<=5:\n",
    "    if a==1:\n",
    "        print(\" ****** \")\n",
    "    elif a==2:\n",
    "        print(\"*       *\")\n",
    "    elif a==3:\n",
    "        print(\"*       *\")\n",
    "    elif a==4:\n",
    "        print(\" ***** * \")\n",
    "    elif a==5:\n",
    "        print(\"\")\n",
    " \n",
    "    a=a+1"
   ]
  },
  {
   "cell_type": "code",
   "execution_count": 14,
   "id": "ffd602c5",
   "metadata": {},
   "outputs": [
    {
     "name": "stdout",
     "output_type": "stream",
     "text": [
      "**                *\n",
      "*  *              *\n",
      "*     *           *\n",
      "*       *         *\n",
      "*          *      *\n",
      "*              *  *\n",
      "*                 * \n"
     ]
    }
   ],
   "source": [
    "# N\n",
    "a=1\n",
    "while a<10:\n",
    "    if a==1:\n",
    "        print(\"**                *\")\n",
    "    elif a==2:\n",
    "         print(\"*  *              *\")\n",
    "    elif a==3:\n",
    "         print(\"*     *           *\")\n",
    "    elif a==4:\n",
    "         print(\"*       *         *\")\n",
    "    elif a==5:\n",
    "         print(\"*          *      *\")\n",
    "    elif a==6:\n",
    "         print(\"*              *  *\")\n",
    "    elif a==7:\n",
    "         print(\"*                 * \")\n",
    "    a=a+1\n",
    "            \n",
    "        "
   ]
  },
  {
   "cell_type": "code",
   "execution_count": 23,
   "id": "262f8b33",
   "metadata": {},
   "outputs": [
    {
     "name": "stdout",
     "output_type": "stream",
     "text": [
      "**          **\n",
      "*  *       * *\n",
      "*    *   *   *\n",
      "*     **     *\n",
      "*            *\n"
     ]
    }
   ],
   "source": [
    "# M\n",
    "a=1\n",
    "while a<=5:\n",
    "    if a==1:\n",
    "        print(\"**          **\")\n",
    "    elif a==2:\n",
    "        print(\"*  *       * *\")\n",
    "    elif a==3:\n",
    "        print(\"*    *   *   *\")\n",
    "    elif a==4:\n",
    "        print(\"*     **     *\")\n",
    "    elif a==5:\n",
    "        print(\"*            *\")\n",
    "   \n",
    "    a+=1"
   ]
  },
  {
   "cell_type": "code",
   "execution_count": 25,
   "id": "b3dcbe2c",
   "metadata": {},
   "outputs": [
    {
     "name": "stdout",
     "output_type": "stream",
     "text": [
      "*\n",
      "*\n",
      "*\n",
      "*\n",
      "*\n",
      "*\n",
      "**********\n"
     ]
    }
   ],
   "source": [
    "# L\n",
    "a=1\n",
    "while a<10:\n",
    "    if a==1:\n",
    "        print(\"*\")\n",
    "    elif a==2:\n",
    "        print(\"*\")\n",
    "    elif a==3:\n",
    "        print(\"*\")\n",
    "    elif a==4:\n",
    "        print(\"*\")\n",
    "    elif a==5:\n",
    "        print(\"*\")\n",
    "    elif a==6:\n",
    "        print(\"*\")\n",
    "    elif a==7:\n",
    "        print(\"**********\")\n",
    "    a+=1\n"
   ]
  },
  {
   "cell_type": "code",
   "execution_count": 31,
   "id": "a47933fe",
   "metadata": {},
   "outputs": [
    {
     "name": "stdout",
     "output_type": "stream",
     "text": [
      "*\n",
      "*        *\n",
      "*      *\n",
      "*     *\n",
      "*   *\n",
      "**\n",
      "*   *\n",
      "*      *\n",
      "*        *\n"
     ]
    }
   ],
   "source": [
    "# K\n",
    "a=1\n",
    "while a<10:\n",
    "    if a==1:\n",
    "        print(\"*\")\n",
    "    elif a==2:\n",
    "        print(\"*        *\")\n",
    "    elif a==3:\n",
    "        print(\"*      *\")\n",
    "    elif a==4:\n",
    "        print(\"*     *\")\n",
    "    elif a==5:\n",
    "        print(\"*   *\")\n",
    "    elif a==6:\n",
    "        print(\"**\")\n",
    "    elif a==7:\n",
    "        print(\"*   *\")\n",
    "    elif a==8:\n",
    "        print(\"*      *\")\n",
    "    elif a==9:\n",
    "        print(\"*        *\")\n",
    "    \n",
    "    a+=1"
   ]
  },
  {
   "cell_type": "code",
   "execution_count": 38,
   "id": "29aab40e",
   "metadata": {},
   "outputs": [
    {
     "name": "stdout",
     "output_type": "stream",
     "text": [
      "**************\n",
      "     **\n",
      "     **\n",
      "     **\n",
      " **  **\n",
      " ******\n"
     ]
    }
   ],
   "source": [
    "#J\n",
    "a=1\n",
    "while a<8:\n",
    "    if a==1:\n",
    "        print(\"**************\")\n",
    "    elif a==2:\n",
    "        print(\"     **\")\n",
    "    elif a==3:\n",
    "        print(\"     **\")\n",
    "    elif a==4:\n",
    "        print(\"     **\")\n",
    "    elif a==5:\n",
    "        print(\" **  **\")\n",
    "    elif a==6:\n",
    "        print(\" ******\")\n",
    "    a+=1"
   ]
  },
  {
   "cell_type": "code",
   "execution_count": 39,
   "id": "921da0b3",
   "metadata": {},
   "outputs": [
    {
     "name": "stdout",
     "output_type": "stream",
     "text": [
      "**************\n",
      "     **\n",
      "     **\n",
      "     **\n",
      "     **\n",
      "*************\n"
     ]
    }
   ],
   "source": [
    "# I\n",
    "a=1\n",
    "while a<8:\n",
    "    if a==1:\n",
    "        print(\"**************\")\n",
    "    elif a==2:\n",
    "        print(\"     **\")\n",
    "    elif a==3:\n",
    "        print(\"     **\")\n",
    "    elif a==4:\n",
    "        print(\"     **\")\n",
    "    elif a==5:\n",
    "        print(\"     **\")\n",
    "    elif a==6:\n",
    "        print(\"*************\")\n",
    "    a+=1"
   ]
  },
  {
   "cell_type": "code",
   "execution_count": 45,
   "id": "2eae9751",
   "metadata": {},
   "outputs": [
    {
     "name": "stdout",
     "output_type": "stream",
     "text": [
      "*                 *\n",
      "*                 *\n",
      "*                 *\n",
      "*******************\n",
      "*                 *\n",
      "*                 *\n",
      "*                 * \n"
     ]
    }
   ],
   "source": [
    "# H \n",
    "a=1\n",
    "while a<10:\n",
    "    if a==1:\n",
    "        print(\"*                 *\")\n",
    "    elif a==2:\n",
    "         print(\"*                 *\")\n",
    "    elif a==3:\n",
    "         print(\"*                 *\")\n",
    "    elif a==4:\n",
    "         print(\"*******************\")\n",
    "    elif a==5:\n",
    "         print(\"*                 *\")\n",
    "    elif a==6:\n",
    "         print(\"*                 *\")\n",
    "    elif a==7:\n",
    "         print(\"*                 * \")\n",
    "    a=a+1\n",
    "            \n",
    "        "
   ]
  },
  {
   "cell_type": "code",
   "execution_count": 55,
   "id": "b1b2ad14",
   "metadata": {},
   "outputs": [
    {
     "name": "stdout",
     "output_type": "stream",
     "text": [
      "**********\n",
      "*\n",
      "*\n",
      "*     ********\n",
      "*        *   *\n",
      "**********   *\n"
     ]
    }
   ],
   "source": [
    "# G\n",
    "a=1\n",
    "while a<10:\n",
    "    if a==1:\n",
    "        print(\"**********\")\n",
    "    elif a==2:\n",
    "        print(\"*\")\n",
    "    elif a==3:\n",
    "        print(\"*\")\n",
    "    elif a==4:\n",
    "        print(\"*     ********\")\n",
    "    elif a==5:\n",
    "        print(\"*        *   *\")\n",
    "    elif a==6:\n",
    "        print(\"**********   *\")\n",
    "    a+=1"
   ]
  },
  {
   "cell_type": "code",
   "execution_count": 60,
   "id": "2fc2c220",
   "metadata": {},
   "outputs": [
    {
     "name": "stdout",
     "output_type": "stream",
     "text": [
      "**********\n",
      "*\n",
      "*\n",
      "*\n",
      "**********\n",
      "*\n",
      "*\n",
      "*\n"
     ]
    }
   ],
   "source": [
    "# F\n",
    "a=1\n",
    "while a<10:\n",
    "    if a==1:\n",
    "        print(\"**********\")\n",
    "    elif a==2:\n",
    "        print(\"*\")\n",
    "    elif a==3:\n",
    "        print(\"*\")\n",
    "    elif a==4:\n",
    "        print(\"*\")\n",
    "    elif a==5:\n",
    "        print(\"**********\")\n",
    "    elif a==6:\n",
    "        print(\"*\")\n",
    "    elif a==7:\n",
    "        print(\"*\") \n",
    "    elif a==8:\n",
    "        print(\"*\")\n",
    "    a=a+1\n"
   ]
  },
  {
   "cell_type": "code",
   "execution_count": 59,
   "id": "e0ef6cff",
   "metadata": {},
   "outputs": [
    {
     "name": "stdout",
     "output_type": "stream",
     "text": [
      "**********\n",
      "*\n",
      "*\n",
      "*\n",
      "**********\n",
      "*\n",
      "*\n",
      "***********\n"
     ]
    }
   ],
   "source": [
    "# E\n",
    "a=1\n",
    "while a<10:\n",
    "    if a==1:\n",
    "        print(\"**********\")\n",
    "    elif a==2:\n",
    "        print(\"*\")\n",
    "    elif a==3:\n",
    "        print(\"*\")\n",
    "    elif a==4:\n",
    "        print(\"*\")\n",
    "    elif a==5:\n",
    "        print(\"**********\")\n",
    "    elif a==6:\n",
    "        print(\"*\")\n",
    "    elif a==7:\n",
    "        print(\"*\") \n",
    "    elif a==8:\n",
    "        print(\"***********\")\n",
    "    a=a+1"
   ]
  },
  {
   "cell_type": "code",
   "execution_count": 67,
   "id": "9cdc0a89",
   "metadata": {},
   "outputs": [
    {
     "name": "stdout",
     "output_type": "stream",
     "text": [
      "******* \n",
      "*       *\n",
      "*       *\n",
      "******* \n",
      "\n"
     ]
    }
   ],
   "source": [
    "# D\n",
    "a=1\n",
    "while a<=5:\n",
    "    if a==1:\n",
    "        print(\"******* \")\n",
    "    elif a==2:\n",
    "        print(\"*       *\")\n",
    "    elif a==3:\n",
    "        print(\"*       *\")\n",
    "    elif a==4:\n",
    "        print(\"******* \")\n",
    "    elif a==5:\n",
    "        print(\"\")\n",
    " \n",
    "    a=a+1\n"
   ]
  },
  {
   "cell_type": "code",
   "execution_count": 74,
   "id": "c84b786b",
   "metadata": {},
   "outputs": [
    {
     "name": "stdout",
     "output_type": "stream",
     "text": [
      " ******** \n",
      "*\n",
      "*\n",
      " ******** \n",
      "\n"
     ]
    }
   ],
   "source": [
    "\n",
    "a=1\n",
    "while a<=5:\n",
    "    if a==1:\n",
    "        print(\" ******** \")\n",
    "    elif a==2:\n",
    "        print(\"*\")\n",
    "    elif a==3:\n",
    "        print(\"*\")\n",
    "    elif a==4:\n",
    "        print(\" ******** \")\n",
    "    elif a==5:\n",
    "        print(\"\")\n",
    " \n",
    "    a=a+1"
   ]
  },
  {
   "cell_type": "code",
   "execution_count": 83,
   "id": "924bdb00",
   "metadata": {},
   "outputs": [
    {
     "name": "stdout",
     "output_type": "stream",
     "text": [
      "**********\n",
      "*         *\n",
      "*         *\n",
      "*       *\n",
      "******\n",
      "*      *\n",
      "*        *\n",
      "*        *\n",
      "*********\n"
     ]
    }
   ],
   "source": [
    "# B\n",
    "a=1\n",
    "while a<10:\n",
    "    if a==1:\n",
    "        print(\"**********\")\n",
    "    elif a==2:\n",
    "        print(\"*         *\")\n",
    "    elif a==3:\n",
    "        print(\"*         *\")\n",
    "    elif a==4:\n",
    "        print(\"*       *\")\n",
    "    elif a==5:\n",
    "        print(\"******\")\n",
    "    elif a==6:\n",
    "        print(\"*      *\")\n",
    "    elif a==7:\n",
    "        print(\"*        *\") \n",
    "    elif a==8:\n",
    "        print(\"*        *\") \n",
    "    elif a==9:\n",
    "        print(\"*********\")\n",
    "    a=a+1\n"
   ]
  },
  {
   "cell_type": "code",
   "execution_count": 84,
   "id": "f2675d15",
   "metadata": {},
   "outputs": [
    {
     "name": "stdout",
     "output_type": "stream",
     "text": [
      "************\n",
      "*          *\n",
      "*          *\n",
      "************\n",
      "*          *\n",
      "*          *\n"
     ]
    }
   ],
   "source": [
    "# A\n",
    "a=1\n",
    "while a<=6:\n",
    "    if a==1:\n",
    "        print(\"************\")\n",
    "    elif a==2:\n",
    "        print(\"*          *\")\n",
    "    elif a==3:\n",
    "        print(\"*          *\")\n",
    "    elif a==4:\n",
    "        print(\"************\")\n",
    "    elif a==5:\n",
    "        print(\"*          *\")\n",
    "    elif a==6:\n",
    "        print(\"*          *\")\n",
    "   \n",
    "    a+=1"
   ]
  },
  {
   "cell_type": "code",
   "execution_count": null,
   "id": "895d72bb",
   "metadata": {},
   "outputs": [],
   "source": []
  }
 ],
 "metadata": {
  "kernelspec": {
   "display_name": "Python 3 (ipykernel)",
   "language": "python",
   "name": "python3"
  },
  "language_info": {
   "codemirror_mode": {
    "name": "ipython",
    "version": 3
   },
   "file_extension": ".py",
   "mimetype": "text/x-python",
   "name": "python",
   "nbconvert_exporter": "python",
   "pygments_lexer": "ipython3",
   "version": "3.9.13"
  }
 },
 "nbformat": 4,
 "nbformat_minor": 5
}
